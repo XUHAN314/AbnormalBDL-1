{
 "cells": [
  {
   "cell_type": "code",
   "execution_count": 356,
   "metadata": {},
   "outputs": [],
   "source": [
    "import numpy as np\n",
    "import sklearn\n",
    "import seaborn as sns\n",
    "import matplotlib.pyplot as plt\n",
    "import pandas as pd\n",
    "from sklearn.metrics import roc_auc_score, roc_curve, precision_recall_curve, average_precision_score"
   ]
  },
  {
   "cell_type": "code",
   "execution_count": 627,
   "metadata": {},
   "outputs": [],
   "source": [
    "std_pd=pd.read_csv('/Users/golf/Downloads/exp_all_digit/digit_3/test/plots/var_at_epoch1.csv').apply(lambda x:np.sqrt(x))\n",
    "mean_pd=pd.read_csv('/Users/golf/Downloads/exp_all_digit/digit_3/test/plots/mean_at_epoch1.csv')"
   ]
  },
  {
   "cell_type": "code",
   "execution_count": 628,
   "metadata": {},
   "outputs": [],
   "source": [
    "std_ab=np.array(std_pd[std_pd.labels==1]['var'])\n",
    "mean_ab=np.array(mean_pd[mean_pd.labels==1]['scores'])\n",
    "std_n=np.array(std_pd[std_pd.labels==0]['var'])\n",
    "mean_n=np.array(mean_pd[mean_pd.labels==0]['scores'])"
   ]
  },
  {
   "cell_type": "code",
   "execution_count": 629,
   "metadata": {},
   "outputs": [],
   "source": [
    "scores = np.concatenate([mean_n, mean_ab])\n",
    "stds = np.concatenate([std_n, std_ab])\n",
    "labels = np.concatenate([np.zeros_like(mean_n),np.ones_like(mean_ab)])"
   ]
  },
  {
   "cell_type": "markdown",
   "metadata": {},
   "source": [
    "# get score"
   ]
  },
  {
   "cell_type": "code",
   "execution_count": 815,
   "metadata": {},
   "outputs": [],
   "source": [
    "def get_prob_dict(scores, labels):\n",
    "    thre = np.arange(np.min(scores), np.max(scores), 0.0005)\n",
    "    normal_hist = np.histogram(scores[labels==0], range=(np.min(scores), np.max(scores)), bins=200)\n",
    "    abnormal_hist = np.histogram(scores[labels==1], range=(np.min(scores), np.max(scores)), bins=200)\n",
    "    threshold = normal_hist[1]\n",
    "    prob = abnormal_hist[0]/(normal_hist[0]+abnormal_hist[0])\n",
    "    prob[np.isnan(prob)] = 1\n",
    "    return prob, threshold[:-1]"
   ]
  },
  {
   "cell_type": "code",
   "execution_count": 816,
   "metadata": {},
   "outputs": [
    {
     "name": "stderr",
     "output_type": "stream",
     "text": [
      "/Users/golf/anaconda3/envs/bdl_2019f_env/lib/python3.7/site-packages/ipykernel_launcher.py:6: RuntimeWarning: invalid value encountered in true_divide\n",
      "  \n"
     ]
    }
   ],
   "source": [
    "prob, threshold = get_prob_dict(scores, labels)"
   ]
  },
  {
   "cell_type": "code",
   "execution_count": 817,
   "metadata": {},
   "outputs": [],
   "source": [
    "def predict(score, std, threshold, prob, n_sample=100):\n",
    "    output = np.random.normal(score, std, n_sample)\n",
    "    out_prob = np.zeros_like(output)\n",
    "    for i, o in enumerate(output):\n",
    "        out_prob[i] = prob[np.argmin(np.abs(threshold-o))]\n",
    "    return out_prob"
   ]
  },
  {
   "cell_type": "code",
   "execution_count": 838,
   "metadata": {},
   "outputs": [],
   "source": [
    "probs = []\n",
    "probs.append(predict(0.0512832999999996, 0.01115689, threshold, prob, 100))\n",
    "\n",
    "for _ in range(9):\n",
    "    n_mean = mean_n[np.random.randint(mean_n.shape[0])]\n",
    "    n_std = std_n[mean_n==n_mean]\n",
    "    probs.append(predict(n_mean, n_std, threshold, prob, 100))"
   ]
  },
  {
   "cell_type": "code",
   "execution_count": 851,
   "metadata": {},
   "outputs": [
    {
     "data": {
      "image/png": "[encoded data removed]",
      "text/plain": [
       "<Figure size 432x288 with 1 Axes>"
      ]
     },
     "metadata": {
      "needs_background": "light"
     },
     "output_type": "display_data"
    }
   ],
   "source": [
    "plt.scatter(np.zeros_like(probs[0],dtype=np.int), probs[0], s=1000, alpha=0.3, marker=1, label=\"abnormal testpoint\")\n",
    "for i, pb in enumerate(probs[1:]):\n",
    "    if i==0:\n",
    "        plt.scatter(np.ones_like(pb,dtype=np.int) * (i+1), pb, s=1000, alpha=0.3, marker=1,c='r', label=\"normal testpoint\")\n",
    "    else:\n",
    "        plt.scatter(np.ones_like(pb,dtype=np.int) * (i+1), pb, s=1000, alpha=0.3, marker=1,c='r')\n",
    "    plt.xticks(np.arange(0, 11, 1))\n",
    "    plt.ylim(0,1)\n",
    "plt.legend()\n",
    "plt.title(\"probabilistic output\")\n",
    "plt.xlabel(\"selected test image\", labelpad=20)\n",
    "plt.ylabel(\"abnormal probability\")\n",
    "plt.savefig(\"prob_output.png\", dpi=300)"
   ]
  },
  {
   "cell_type": "code",
   "execution_count": null,
   "metadata": {},
   "outputs": [],
   "source": []
  }
 ],
 "metadata": {
  "kernelspec": {
   "display_name": "Python 3",
   "language": "python",
   "name": "python3"
  },
  "language_info": {
   "codemirror_mode": {
    "name": "ipython",
    "version": 3
   },
   "file_extension": ".py",
   "mimetype": "text/x-python",
   "name": "python",
   "nbconvert_exporter": "python",
   "pygments_lexer": "ipython3",
   "version": "3.7.4"
  }
 },
 "nbformat": 4,
 "nbformat_minor": 2
}
